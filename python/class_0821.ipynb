{
 "cells": [
  {
   "cell_type": "code",
   "execution_count": null,
   "metadata": {},
   "outputs": [],
   "source": [
    "a = vector([1,2,-3,4])\n",
    "b = vector([-2,4,1,0])\n",
    "\n",
    "print(\"a =\", a)\n",
    "print(\"b =\", b)\n",
    "print()\n",
    "print(\"a + b =\", a+b)\n",
    "print(\"a - b =\", a-b)\n",
    "print(\"-2*a =\", -2*a)"
   ]
  },
  {
   "cell_type": "code",
   "execution_count": null,
   "metadata": {},
   "outputs": [],
   "source": [
    "a = vector([2, -1, 3, 2])\n",
    "b = vector([3, 2, 1, -4])\n",
    "print(a.norm())\n",
    "print(b.norm())\n",
    "print((a-b).norm()) #거리 구하기"
   ]
  },
  {
   "cell_type": "code",
   "execution_count": null,
   "metadata": {},
   "outputs": [],
   "source": [
    "#예제 3. 세 개의 데이터 A(0,1,-7,1), B(5,2,-1,3), C(-2,0,-4,6)에 대하여 B는 A와 C중 어느 데이터에 더 가까운지 판단하시오.\n",
    "a = vector([0, 1, -7, 1]) #벡터 생성\n",
    "b = vector([5, 2, -1, 3])\n",
    "c = vector([-2, 0, -4, 6])\n",
    "\n",
    "print((a - b).norm())\n",
    "print((b - c).norm())\n",
    "distAB = (a - b).norm()\n",
    "distBC = (b - c).norm()\n",
    "\n",
    "print(\"dist(A, B) =\", distAB)\n",
    "print(\"dist(B, C) =\", distBC)\n",
    "bool(distAB < distBC) #True 이면 dist(A,B) < dist(B,C)\n",
    "\n"
   ]
  },
  {
   "cell_type": "code",
   "execution_count": null,
   "metadata": {},
   "outputs": [],
   "source": [
    "#내적 구하기\n",
    "a = vector([2, -1, 3, 2])\n",
    "b = vector([3, 2, 1, -4])\n",
    "print(\"a = \", a)\n",
    "print(\"b = \", b)\n",
    "print()\n",
    "print(a.inner_product(b))"
   ]
  },
  {
   "cell_type": "code",
   "execution_count": null,
   "metadata": {},
   "outputs": [],
   "source": [
    "#예제 5. 코사인 유사도를 활용하여 세 개의 데이터 a,b,c에 대하여 b는 a와 c 중 어느 데이터에 더 가까운지 판단하시오.\n",
    "a = vector([0, 1, -7, 1]) #벡터 생성\n",
    "b = vector([5, 2, 1, 3])\n",
    "c = vector([-2, 0, -4, 6])\n",
    "\n",
    "cos_simAB = a.inner_product(b)/(a.norm()*b.norm()) #코사인 유사도\n",
    "cos_simBC = b.inner_product(c)/(b.norm()*c.norm())\n",
    "\n",
    "print(\"cos_sim(A, B) =\", cos_simAB.n(digits = 3))\n",
    "print(\"cos_sim(B, C) =\", cos_simBC.n(digits = 3))\n",
    "bool(cos_simAB < cos_simBC)"
   ]
  }
 ],
 "metadata": {
  "language_info": {
   "name": "python"
  }
 },
 "nbformat": 4,
 "nbformat_minor": 2
}
