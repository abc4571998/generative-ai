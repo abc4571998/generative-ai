{
 "cells": [
  {
   "cell_type": "code",
   "execution_count": null,
   "metadata": {},
   "outputs": [],
   "source": [
    "# 첨가행렬\n",
    "A = matrix([[1,1,2], [2,4,-3], [3,6,-5]])\n",
    "b = vector([9,1,0])\n",
    "print(A.augment(b))\n",
    "# [ 1  1  2  9]\n",
    "# [ 2  4 -3  1]\n",
    "# [ 3  6 -5  0]"
   ]
  },
  {
   "cell_type": "code",
   "execution_count": null,
   "metadata": {},
   "outputs": [],
   "source": [
    "#기약행사다리꼴\n",
    "A = matrix([[1, 1, 1, 4, 4],\n",
    "\t\t\t[2, 3, 4, 9, 16],\n",
    "\t\t\t[-2, 0, 3, -7, 11]])\n",
    "\n",
    "print(\"RREF(A) =\")\n",
    "print(A.rref())\n",
    "\n",
    "# RREF(A) =\n",
    "# [ 1  0  0  2 -1]\n",
    "# [ 0  1  0  3  2]\n",
    "# [ 0  0  1 -1  3]"
   ]
  },
  {
   "cell_type": "code",
   "execution_count": null,
   "metadata": {},
   "outputs": [],
   "source": [
    "# 기약행사다리꼴\n",
    "A = matrix([[1, -2, 1],\n",
    "\t\t\t[2, -2, 1],\n",
    "\t\t\t[3, 1, -5],\n",
    "            [0, -1, 2],\n",
    "            [-6, 0, 7]])\n",
    "\n",
    "b = vector([7, 5, 0, -4, -10])\n",
    "A.augment(b).rref()\n",
    "# [1 0 0 0]\n",
    "# [0 1 0 0]\n",
    "# [0 0 1 0]\n",
    "# [0 0 0 1]\n",
    "# [0 0 0 0]\n",
    "A.solve_right(b)\n",
    "#ValueError: matrix equation has no solutions"
   ]
  },
  {
   "cell_type": "code",
   "execution_count": null,
   "metadata": {},
   "outputs": [],
   "source": [
    "A = matrix([[1, -2, 3], [4, 5, 0]])\n",
    "B = matrix([[1, 2, -4], [3, -1, 2],[0, 5, 3]])\n",
    "C = matrix([[5, 4], [-3, 2], [2, 1]])\n",
    "D = matrix([[3, 0, 1]])\n",
    "print(\"A^T =\")\n",
    "print(A.transpose())   # 행렬의 전치행렬 A.transpose() 구하기\n",
    "print()\n",
    "print(\"B^T =\")\n",
    "print(B.transpose())\n",
    "\n",
    "# A^T =\n",
    "# [ 1  4]\n",
    "# [-2  5]\n",
    "# [ 3  0]\n",
    "\n",
    "# B^T =\n",
    "# [ 1  3  0]\n",
    "# [ 2 -1  5]\n",
    "# [-4  2  3]"
   ]
  },
  {
   "cell_type": "code",
   "execution_count": null,
   "metadata": {},
   "outputs": [],
   "source": [
    "A = random_matrix(ZZ, 7, 12)  # 임의의 7x12 정수(ZZ) 행렬 A를 생성!\n",
    "print(\"A =\")\n",
    "print(A)\n",
    "print()\n",
    "print(\"A^T =\")\n",
    "print(A.transpose())  # 생성한 행렬 A의 전치행렬 A.transpose() 구하기"
   ]
  },
  {
   "cell_type": "code",
   "execution_count": 1,
   "metadata": {},
   "outputs": [
    {
     "name": "stdout",
     "output_type": "stream",
     "text": [
      "A =\n",
      "[[2 1 1 3 3 1 1]\n",
      " [0 1 2 4 1 0 2]\n",
      " [4 4 2 0 0 2 4]\n",
      " [0 4 0 0 4 2 3]\n",
      " [0 3 4 3 4 1 3]]\n",
      "\n",
      "A^T =\n",
      "[[2 0 4 0 0]\n",
      " [1 1 4 4 3]\n",
      " [1 2 2 0 4]\n",
      " [3 4 0 0 3]\n",
      " [3 1 0 4 4]\n",
      " [1 0 2 2 1]\n",
      " [1 2 4 3 3]]\n"
     ]
    }
   ],
   "source": [
    "import numpy as np\n",
    "A = np.random.randint(5, size=(5, 7))  # 임의의 (0~4 사이의 수만으로 이루어진) 5x7 자연수 행렬 A를 생성!\n",
    "print(\"A =\")\n",
    "print(A)\n",
    "print()\n",
    "print(\"A^T =\")\n",
    "print(A.transpose()) # 생성한 행렬 A의 전치행렬 A.transpose() 구하기"
   ]
  },
  {
   "cell_type": "code",
   "execution_count": null,
   "metadata": {},
   "outputs": [],
   "source": []
  }
 ],
 "metadata": {
  "kernelspec": {
   "display_name": "py3.12",
   "language": "python",
   "name": "py3.12"
  },
  "language_info": {
   "codemirror_mode": {
    "name": "ipython",
    "version": 3
   },
   "file_extension": ".py",
   "mimetype": "text/x-python",
   "name": "python",
   "nbconvert_exporter": "python",
   "pygments_lexer": "ipython3",
   "version": "3.12.4"
  }
 },
 "nbformat": 4,
 "nbformat_minor": 2
}
