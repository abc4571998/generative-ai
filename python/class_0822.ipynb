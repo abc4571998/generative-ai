{
 "cells": [
  {
   "cell_type": "code",
   "execution_count": null,
   "metadata": {},
   "outputs": [],
   "source": [
    "A = matrix([[1,1,2], [2,4,-3], [3,6,-5]])\n",
    "b = vector([9,1,0])\n",
    "print(A.augment(b))\n",
    "# [ 1  1  2  9]\n",
    "# [ 2  4 -3  1]\n",
    "# [ 3  6 -5  0]"
   ]
  }
 ],
 "metadata": {
  "language_info": {
   "name": "python"
  }
 },
 "nbformat": 4,
 "nbformat_minor": 2
}
