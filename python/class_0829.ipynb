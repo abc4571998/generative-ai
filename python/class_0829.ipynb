{
 "cells": [
  {
   "cell_type": "code",
   "execution_count": 4,
   "metadata": {},
   "outputs": [],
   "source": [
    "# stack 클래스 만들기\n",
    "class Node:\n",
    "    def __init__(self, data):\n",
    "        self.data = data\n",
    "        self.next = None\n",
    "\n",
    "class Stack:\n",
    "    def __init__(self):\n",
    "        self.top = None\n",
    "    \n",
    "    def push(self, data):\n",
    "        if self.top is None:\n",
    "            self.top = Node(data)\n",
    "        else:\n",
    "            node = Node(data)\n",
    "            node.next = self.top\n",
    "            self.top = node\n",
    "    \n",
    "    def pop(self):\n",
    "        if self.top is None:\n",
    "            return None\n",
    "        node = self.top\n",
    "        self.top = node.next\n",
    "        return node.data\n",
    "    \n",
    "    def peek(self):\n",
    "        if self.top is None:\n",
    "            return None\n",
    "        return self.top.data\n",
    "    \n",
    "    def is_empty(self):\n",
    "        return self.top is None\n"
   ]
  },
  {
   "cell_type": "code",
   "execution_count": 5,
   "metadata": {},
   "outputs": [
    {
     "name": "stdout",
     "output_type": "stream",
     "text": [
      "Push data = A\n",
      "Push data = B\n",
      "Push data = C\n",
      "\n",
      "Pop data = C\n",
      "Pop data = B\n",
      "Pop data = A\n",
      "\n",
      "Peek data = None\n"
     ]
    }
   ],
   "source": [
    "if __name__ == \"__main__\":\n",
    "    s = Stack()\n",
    "\n",
    "    for i in range(3):\n",
    "        s.push(chr(ord(\"A\") + i))\n",
    "        print(f\"Push data = {s.peek()}\")\n",
    "    print()\n",
    "\n",
    "    while not s.is_empty():\n",
    "        print(f\"Pop data = {s.pop()}\")\n",
    "    print()\n",
    "\n",
    "    print(f\"Peek data = {s.peek()}\")"
   ]
  },
  {
   "cell_type": "code",
   "execution_count": 7,
   "metadata": {},
   "outputs": [
    {
     "name": "stdout",
     "output_type": "stream",
     "text": [
      "True\n",
      "False\n"
     ]
    }
   ],
   "source": [
    "#괄호 체크\n",
    "def check_bracket(expression: str) -> bool:\n",
    "    s = Stack()\n",
    "    for exp in expression:\n",
    "        if exp == '(':\n",
    "            s.push(exp)\n",
    "        elif exp == ')':\n",
    "            if not s.pop():\n",
    "                return False\n",
    "    return s.is_empty()\n",
    "\n",
    "\n",
    "print(check_bracket(\"((a * (b + c)) - d) / e\"))\n",
    "print(check_bracket(\"(((a * (b + c)) - d) / e\"))\n"
   ]
  },
  {
   "cell_type": "code",
   "execution_count": 13,
   "metadata": {},
   "outputs": [
    {
     "name": "stdout",
     "output_type": "stream",
     "text": [
      "True\n",
      "False\n"
     ]
    }
   ],
   "source": [
    "#여러 괄호들 짝 검사\n",
    "def check_bracket2(expression: str) -> bool:\n",
    "    brackets : dict[str, str] = {\")\": \"(\", \"}\": \"{\", \"]\": \"[\"}\n",
    "    s = Stack()\n",
    "    for exp in expression:\n",
    "        if exp in brackets.values():\n",
    "            s.push(exp)\n",
    "        elif exp in brackets:\n",
    "            pop_bracket = s.pop()\n",
    "            if not pop_bracket or pop_bracket != brackets[exp]:\n",
    "                return False\n",
    "    return s.is_empty()\n",
    "\n",
    "print(check_bracket2(\"[{a * (b + c)} - d] / e\"))\n",
    "print(check_bracket2(\"[{a * (b + c)] - d] / e\"))"
   ]
  },
  {
   "cell_type": "code",
   "execution_count": 17,
   "metadata": {},
   "outputs": [
    {
     "name": "stdout",
     "output_type": "stream",
     "text": [
      "3 + 5 * 2 -> 352*+\n",
      "3 * 5 + 2 -> 35*2+\n"
     ]
    }
   ],
   "source": [
    "#후위 표기법\n",
    "def to_postfix(expression: str) -> str:\n",
    "    s = Stack()\n",
    "    op: dict[str, int] = {'+': 1, '-': 1, '*': 2, '/': 2} \n",
    "    res: str = \"\"\n",
    "    for exp in expression:\n",
    "        if exp.isdigit():\n",
    "            res += exp\n",
    "        elif exp in op:\n",
    "            if not s.is_empty() and op[exp] <= op[s.peek()]:\n",
    "                res += s.pop()\n",
    "            s.push(exp)\n",
    "\n",
    "    while not s.is_empty():\n",
    "        res += s.pop()\n",
    "    \n",
    "    return res\n",
    "\n",
    "for expr in (\"3 + 5 * 2\", \"3 * 5 + 2\"):\n",
    "    print(f\"{expr} -> {to_postfix(expr)}\")\n"
   ]
  },
  {
   "cell_type": "code",
   "execution_count": 21,
   "metadata": {},
   "outputs": [
    {
     "name": "stdout",
     "output_type": "stream",
     "text": [
      "35+2* -> 16\n",
      "12+3*4/567-*+ -> -2.75\n"
     ]
    }
   ],
   "source": [
    "def eval_postfix(expression: str) -> int:\n",
    "    s = Stack()\n",
    "    for exp in expression:\n",
    "        if exp.isdigit():\n",
    "            s.push(int(exp))\n",
    "        else:\n",
    "            n2 = s.pop()\n",
    "            n1 = s.pop()\n",
    "            eval_num = 0\n",
    "            if exp == '+':\n",
    "                eval_num = n1 + n2\n",
    "            elif exp == '-':\n",
    "                eval_num = n1 - n2\n",
    "            elif exp == '*':\n",
    "                eval_num = n1 * n2\n",
    "            elif exp == '/':\n",
    "                eval_num = n1 / n2\n",
    "            s.push(eval_num)\n",
    "\n",
    "    return s.pop()\n",
    "\n",
    "for expr in (\"35+2*\", \"12+3*4/567-*+\"):\n",
    "    print(f\"{expr} -> {eval_postfix(expr)}\")\n",
    "\n"
   ]
  },
  {
   "cell_type": "code",
   "execution_count": null,
   "metadata": {},
   "outputs": [],
   "source": []
  }
 ],
 "metadata": {
  "kernelspec": {
   "display_name": "py3.12",
   "language": "python",
   "name": "py3.12"
  },
  "language_info": {
   "codemirror_mode": {
    "name": "ipython",
    "version": 3
   },
   "file_extension": ".py",
   "mimetype": "text/x-python",
   "name": "python",
   "nbconvert_exporter": "python",
   "pygments_lexer": "ipython3",
   "version": "3.12.4"
  }
 },
 "nbformat": 4,
 "nbformat_minor": 2
}
