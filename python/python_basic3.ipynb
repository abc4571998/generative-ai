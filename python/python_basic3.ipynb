{
 "cells": [
  {
   "cell_type": "code",
   "execution_count": 30,
   "id": "4b46d954-0e7d-4001-952d-e189e4500954",
   "metadata": {},
   "outputs": [],
   "source": [
    "import tkinter as tk\n",
    "\n",
    "root = tk.Tk()  # 기본 윈도우 생성\n",
    "label = tk.Label(root, text=\"hi\")  # 레이블 위젯 생성\n",
    "label.pack()  # 레이블 위젯을 윈도우에 추가\n",
    "\n",
    "root.mainloop()  # 이벤트 루프 시작"
   ]
  },
  {
   "cell_type": "code",
   "execution_count": 17,
   "id": "f1920dea-524e-4e36-9757-19b5da723a5b",
   "metadata": {},
   "outputs": [
    {
     "data": {
      "text/plain": [
       "['APRIL',\n",
       " 'AUGUST',\n",
       " 'Calendar',\n",
       " 'DECEMBER',\n",
       " 'Day',\n",
       " 'EPOCH',\n",
       " 'FEBRUARY',\n",
       " 'FRIDAY',\n",
       " 'HTMLCalendar',\n",
       " 'IllegalMonthError',\n",
       " 'IllegalWeekdayError',\n",
       " 'IntEnum',\n",
       " 'JANUARY',\n",
       " 'JULY',\n",
       " 'JUNE',\n",
       " 'LocaleHTMLCalendar',\n",
       " 'LocaleTextCalendar',\n",
       " 'MARCH',\n",
       " 'MAY',\n",
       " 'MONDAY',\n",
       " 'Month',\n",
       " 'NOVEMBER',\n",
       " 'OCTOBER',\n",
       " 'SATURDAY',\n",
       " 'SEPTEMBER',\n",
       " 'SUNDAY',\n",
       " 'THURSDAY',\n",
       " 'TUESDAY',\n",
       " 'TextCalendar',\n",
       " 'WEDNESDAY',\n",
       " '_EPOCH_ORD',\n",
       " '__all__',\n",
       " '__builtins__',\n",
       " '__cached__',\n",
       " '__doc__',\n",
       " '__file__',\n",
       " '__getattr__',\n",
       " '__loader__',\n",
       " '__name__',\n",
       " '__package__',\n",
       " '__spec__',\n",
       " '_colwidth',\n",
       " '_get_default_locale',\n",
       " '_locale',\n",
       " '_localized_day',\n",
       " '_localized_month',\n",
       " '_monthlen',\n",
       " '_nextmonth',\n",
       " '_prevmonth',\n",
       " '_spacing',\n",
       " 'c',\n",
       " 'calendar',\n",
       " 'datetime',\n",
       " 'day_abbr',\n",
       " 'day_name',\n",
       " 'different_locale',\n",
       " 'error',\n",
       " 'firstweekday',\n",
       " 'format',\n",
       " 'formatstring',\n",
       " 'global_enum',\n",
       " 'isleap',\n",
       " 'leapdays',\n",
       " 'main',\n",
       " 'mdays',\n",
       " 'month',\n",
       " 'month_abbr',\n",
       " 'month_name',\n",
       " 'monthcalendar',\n",
       " 'monthrange',\n",
       " 'prcal',\n",
       " 'prmonth',\n",
       " 'prweek',\n",
       " 'repeat',\n",
       " 'setfirstweekday',\n",
       " 'sys',\n",
       " 'timegm',\n",
       " 'warnings',\n",
       " 'week',\n",
       " 'weekday',\n",
       " 'weekheader']"
      ]
     },
     "execution_count": 17,
     "metadata": {},
     "output_type": "execute_result"
    }
   ],
   "source": [
    "import calendar\n",
    "dir(calendar)"
   ]
  },
  {
   "cell_type": "code",
   "execution_count": 38,
   "id": "8e12dce7-bc3c-48f8-9548-b2ea7831b92e",
   "metadata": {},
   "outputs": [
    {
     "name": "stdout",
     "output_type": "stream",
     "text": [
      "['isleap', 'leapdays']\n"
     ]
    }
   ],
   "source": [
    "#리스트 컴프리핸션 통해서 calendar에 leap 라는 문자열을 포함하는 이름은 어떤 것이 있는지 찾기\n",
    "import calendar\n",
    "\n",
    "print([x for x in dir(calendar) if 'leap' in x])"
   ]
  },
  {
   "cell_type": "code",
   "execution_count": 58,
   "id": "ce863c62-cec6-4449-b757-a923fb45217d",
   "metadata": {},
   "outputs": [
    {
     "name": "stdout",
     "output_type": "stream",
     "text": [
      "Help on function isleap in module calendar:\n",
      "\n",
      "isleap(year)\n",
      "    Return True for leap years, False for non-leap years.\n",
      "\n",
      "False\n"
     ]
    }
   ],
   "source": [
    "#calendar 모듈에서 윤년 확인\n",
    "import calendar\n",
    "\n",
    "help(calendar.isleap)\n",
    "print(calendar.isleap(2077))"
   ]
  },
  {
   "cell_type": "code",
   "execution_count": 54,
   "id": "b67c1168-a333-4e71-bcc9-ed95be47bc7a",
   "metadata": {},
   "outputs": [
    {
     "name": "stdout",
     "output_type": "stream",
     "text": [
      "0.9539209091238942\n",
      "3\n",
      "['a', 'd', 'e', 'b', 'c']\n",
      "c\n"
     ]
    }
   ],
   "source": [
    "import random\n",
    "\n",
    "print(random.random()) #0~1 사이의 수\n",
    "print(random.randrange(1,6)) #1이상 6미만의 정수\n",
    "\n",
    "#shuffle 무작위로 섞는 함수\n",
    "l = ['a', 'b', 'c', 'd', 'e']\n",
    "random.shuffle(l)\n",
    "print(l)\n",
    "\n",
    "print(random.choice(l))"
   ]
  },
  {
   "cell_type": "code",
   "execution_count": 8,
   "id": "c0fd534b-e4fd-4538-8188-04aa6f87cb50",
   "metadata": {},
   "outputs": [
    {
     "name": "stdout",
     "output_type": "stream",
     "text": [
      "blue pasta\n"
     ]
    }
   ],
   "source": [
    "#색과 음식 이름을 무작위로 뽑아서 밴드 이름 짓기\n",
    "import random\n",
    "\n",
    "# colors = ['빨간', '노란', '푸른', '초록', '남색', '검정', '하얀']\n",
    "# foods = ['소보로', '커피콩빵', '된장찌개', '오징어볶음']\n",
    "\n",
    "colors = ['red', 'yellow', 'blue', 'green', 'navy', 'black', 'white']\n",
    "foods = ['bread', 'coffee', 'pasta', 'chicken']\n",
    "\n",
    "color = random.choice(colors)\n",
    "food = random.choice(foods)\n",
    "\n",
    "print(f\"{color} {food}\")"
   ]
  },
  {
   "cell_type": "code",
   "execution_count": 2,
   "id": "51cbda5d-6928-4148-b387-c1621f56298c",
   "metadata": {},
   "outputs": [
    {
     "name": "stdout",
     "output_type": "stream",
     "text": [
      "2024-02-27 00:00:00\n"
     ]
    }
   ],
   "source": [
    "from datetime import datetime\n",
    "date_string = \"27 February, 2024\"\n",
    "datetime_object = datetime.strptime(date_string, \"%d %B, %Y\")\n",
    "print(datetime_object)"
   ]
  },
  {
   "cell_type": "code",
   "execution_count": 1,
   "id": "b6b5a263",
   "metadata": {},
   "outputs": [
    {
     "name": "stdout",
     "output_type": "stream",
     "text": [
      "August 19, 2024\n"
     ]
    }
   ],
   "source": [
    "from datetime import datetime\n",
    "current_datetime = datetime.now()\n",
    "formatted_date = current_datetime.strftime(\"%B %d, %Y\")\n",
    "print(formatted_date)"
   ]
  },
  {
   "cell_type": "code",
   "execution_count": 4,
   "id": "5cfd5259",
   "metadata": {},
   "outputs": [
    {
     "name": "stdout",
     "output_type": "stream",
     "text": [
      "Collecting pytz\n",
      "  Using cached pytz-2024.1-py2.py3-none-any.whl.metadata (22 kB)\n",
      "Using cached pytz-2024.1-py2.py3-none-any.whl (505 kB)\n",
      "Installing collected packages: pytz\n",
      "Successfully installed pytz-2024.1\n",
      "Note: you may need to restart the kernel to use updated packages.\n"
     ]
    }
   ],
   "source": [
    "%pip install pytz"
   ]
  },
  {
   "cell_type": "code",
   "execution_count": 5,
   "id": "38e0354f",
   "metadata": {},
   "outputs": [
    {
     "name": "stdout",
     "output_type": "stream",
     "text": [
      "2024-08-19 21:52:19.594702+09:00\n"
     ]
    }
   ],
   "source": [
    "#날짜 포맷팅\n",
    "from datetime import datetime\n",
    "import pytz\n",
    "\n",
    "timezone = pytz.timezone('Asia/Seoul')\n",
    "localized_datetime = datetime.now(timezone)\n",
    "print(localized_datetime)"
   ]
  },
  {
   "cell_type": "code",
   "execution_count": 9,
   "id": "33463d4c-5c42-4968-b585-91071a92180d",
   "metadata": {},
   "outputs": [
    {
     "name": "stdout",
     "output_type": "stream",
     "text": [
      "<list_iterator object at 0x119c27460>\n"
     ]
    }
   ],
   "source": [
    "a= [1,2,3]\n",
    "print(iter(a))"
   ]
  },
  {
   "cell_type": "code",
   "execution_count": 11,
   "id": "771bb89a-7f56-4c1f-a614-22bb2f7c032c",
   "metadata": {},
   "outputs": [
    {
     "name": "stdout",
     "output_type": "stream",
     "text": [
      "True\n",
      "False\n"
     ]
    }
   ],
   "source": [
    "# 리스트는 이터러블 객체입니다.\n",
    "my_list = [1, 2, 3]\n",
    "\n",
    "# 리스트에는 __iter__() 메서드가 있습니다.\n",
    "print(hasattr(my_list, '__iter__'))  # 출력: True\n",
    "\n",
    "# 그러나 리스트에는 __next__() 메서드가 없습니다.\n",
    "print(hasattr(my_list, '__next__'))  # 출력: False\n"
   ]
  },
  {
   "cell_type": "code",
   "execution_count": 8,
   "id": "bf5b9773-e119-47e2-bff4-d997f198e7a7",
   "metadata": {},
   "outputs": [
    {
     "name": "stdout",
     "output_type": "stream",
     "text": [
      "1\n",
      "1\n",
      "1\n"
     ]
    }
   ],
   "source": [
    "# 이터러블과 이터레이터 객체\n",
    "class myIterator:\n",
    "    def __next__(self):\n",
    "        return 1\n",
    "\n",
    "class myIterable:\n",
    "    def __iter__(self):\n",
    "        obj = myIterator()\n",
    "        return obj\n",
    "\n",
    "m = myIterable()\n",
    "r = iter(m)\n",
    "print(next(r))\n",
    "print(next(r))\n",
    "print(next(r))"
   ]
  },
  {
   "cell_type": "code",
   "execution_count": 12,
   "id": "d03a69ca",
   "metadata": {},
   "outputs": [
    {
     "name": "stdout",
     "output_type": "stream",
     "text": [
      "spring\n",
      "summer\n",
      "autumn\n",
      "winter\n"
     ]
    }
   ],
   "source": [
    "#이터레이터 만들기1\n",
    "class Season:\n",
    "    def __iter__(self):\n",
    "        seasons = ['spring', 'summer', 'autumn', 'winter']\n",
    "        return iter(seasons)\n",
    "\n",
    "        \n",
    "s = Season()\n",
    "for i in s:\n",
    "    print(i)"
   ]
  },
  {
   "cell_type": "code",
   "execution_count": 11,
   "id": "b235e4c3",
   "metadata": {},
   "outputs": [
    {
     "name": "stdout",
     "output_type": "stream",
     "text": [
      "spring\n",
      "summer\n",
      "autumn\n",
      "winter\n"
     ]
    }
   ],
   "source": [
    "#이터레이터 만들기2\n",
    "class Season:\n",
    "    def __init__(self) -> None:\n",
    "        self.seasons = ['spring', 'summer', 'autumn', 'winter']\n",
    "        self.index = 0\n",
    "\n",
    "    def __iter__(self):\n",
    "        return self\n",
    "    \n",
    "    def __next__(self):\n",
    "        if self.index < len(self.seasons):\n",
    "            result = self.seasons[self.index]\n",
    "            self.index += 1\n",
    "            return result\n",
    "        else:  \n",
    "            raise StopIteration\n",
    "        \n",
    "s = Season()\n",
    "for i in s:\n",
    "    print(i)"
   ]
  },
  {
   "cell_type": "code",
   "execution_count": 19,
   "id": "ccb5b502-8dcc-4bf4-9944-49f8405c00a1",
   "metadata": {},
   "outputs": [
    {
     "name": "stdout",
     "output_type": "stream",
     "text": [
      "[4, 5, 6, 7, 8]\n"
     ]
    }
   ],
   "source": [
    "def add_1(n):\n",
    "\treturn n+1\n",
    "\n",
    "target = [1,2,3,4,5]\n",
    "result = map(lambda x: x+3, target)\n",
    "print(list(result))"
   ]
  },
  {
   "cell_type": "code",
   "execution_count": 4,
   "id": "4d6e35ba",
   "metadata": {},
   "outputs": [
    {
     "name": "stdout",
     "output_type": "stream",
     "text": [
      "[2, 4]\n"
     ]
    }
   ],
   "source": [
    "target = [1,2,3,4,5]\n",
    "result = filter(lambda x: x%2 == 0, target)\n",
    "print(list(result))"
   ]
  },
  {
   "cell_type": "code",
   "execution_count": 6,
   "id": "029293eb",
   "metadata": {},
   "outputs": [
    {
     "name": "stdout",
     "output_type": "stream",
     "text": [
      "0\n",
      "1\n",
      "2\n"
     ]
    }
   ],
   "source": [
    "def num_gen():\n",
    "\tfor i in range(3):\n",
    "\t\tyield i\n",
    "\t\t\n",
    "g = num_gen() #제너레이터 객체 생성\n",
    "\n",
    "for i in g:\n",
    "\tprint(i) #0,1,2"
   ]
  },
  {
   "cell_type": "code",
   "execution_count": 13,
   "id": "8d2fd26a",
   "metadata": {},
   "outputs": [
    {
     "name": "stdout",
     "output_type": "stream",
     "text": [
      "Something before the function.\n",
      "Hello!\n",
      "Something after the function.\n"
     ]
    }
   ],
   "source": [
    "#데코레이터\n",
    "def my_decorator(func):\n",
    "    def wrapper():\n",
    "        print(\"Something before the function.\")\n",
    "        func()\n",
    "        print(\"Something after the function.\")\n",
    "    return wrapper\n",
    "\n",
    "@my_decorator\n",
    "def say_hello():\n",
    "    print(\"Hello!\")\n",
    "\n",
    "say_hello()\n"
   ]
  }
 ],
 "metadata": {
  "kernelspec": {
   "display_name": "py3.12",
   "language": "python",
   "name": "py3.12"
  },
  "language_info": {
   "codemirror_mode": {
    "name": "ipython",
    "version": 3
   },
   "file_extension": ".py",
   "mimetype": "text/x-python",
   "name": "python",
   "nbconvert_exporter": "python",
   "pygments_lexer": "ipython3",
   "version": "3.12.4"
  }
 },
 "nbformat": 4,
 "nbformat_minor": 5
}
