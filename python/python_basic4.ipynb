{
 "cells": [
  {
   "cell_type": "code",
   "execution_count": 3,
   "metadata": {},
   "outputs": [
    {
     "name": "stdout",
     "output_type": "stream",
     "text": [
      "hello\n",
      "********************\n",
      "hello\n",
      "********************\n"
     ]
    }
   ],
   "source": [
    "def hello():\n",
    "\tprint(\"hello\")\n",
    "def deco(fn): #함수를 인자로 받음\n",
    "\tdef deco_hello():\n",
    "\t\tprint(\"*\"*20)\n",
    "\t\tfn()\n",
    "\t\tprint(\"*\"*20)\n",
    "\treturn deco_hello\n",
    "\t\n",
    "deco_hello = deco(hello)\n",
    "hello()\n",
    "deco_hello()"
   ]
  },
  {
   "cell_type": "code",
   "execution_count": 5,
   "metadata": {},
   "outputs": [
    {
     "name": "stdout",
     "output_type": "stream",
     "text": [
      "********************\n",
      "hello2\n",
      "********************\n"
     ]
    }
   ],
   "source": [
    "def deco(fn): #함수를 인자로 받음\n",
    "\tdef deco_hello():\n",
    "\t\tprint(\"*\"*20)\n",
    "\t\tfn()\n",
    "\t\tprint(\"*\"*20)\n",
    "\treturn deco_hello\n",
    "\t\n",
    "@deco\n",
    "def hello2():\n",
    "\tprint(\"hello2\")\n",
    "\t\n",
    "hello2()"
   ]
  },
  {
   "cell_type": "code",
   "execution_count": 9,
   "metadata": {},
   "outputs": [
    {
     "name": "stdout",
     "output_type": "stream",
     "text": [
      "sub thread start thread 0\n",
      "sub thread start thread 1\n",
      "sub thread start thread 2\n",
      "sub thread start thread 3\n",
      "sub thread start thread 4\n",
      "end\n"
     ]
    },
    {
     "name": "stderr",
     "output_type": "stream",
     "text": [
      "/var/folders/94/nf1nt7vd0m38_358ykz2xb100000gn/T/ipykernel_77724/761907721.py:11: DeprecationWarning: currentThread() is deprecated, use current_thread() instead\n",
      "  print(\"sub thread start\", threading.currentThread().getName())\n",
      "/var/folders/94/nf1nt7vd0m38_358ykz2xb100000gn/T/ipykernel_77724/761907721.py:11: DeprecationWarning: getName() is deprecated, get the name attribute instead\n",
      "  print(\"sub thread start\", threading.currentThread().getName())\n"
     ]
    },
    {
     "name": "stderr",
     "output_type": "stream",
     "text": [
      "/var/folders/94/nf1nt7vd0m38_358ykz2xb100000gn/T/ipykernel_77724/761907721.py:13: DeprecationWarning: currentThread() is deprecated, use current_thread() instead\n",
      "  print(\"sub thread end\", threading.currentThread().getName())\n",
      "/var/folders/94/nf1nt7vd0m38_358ykz2xb100000gn/T/ipykernel_77724/761907721.py:13: DeprecationWarning: getName() is deprecated, get the name attribute instead\n",
      "  print(\"sub thread end\", threading.currentThread().getName())\n"
     ]
    },
    {
     "name": "stdout",
     "output_type": "stream",
     "text": [
      "sub thread endsub thread end thread 3\n",
      "sub thread end thread 4\n",
      "sub thread end thread 2\n",
      "sub thread end thread 0\n",
      " thread 1\n"
     ]
    }
   ],
   "source": [
    "#스레드\n",
    "import threading\n",
    "import time\n",
    "\n",
    "class Worker(threading.Thread):\n",
    "\tdef __init__(self, name):\n",
    "\t\tsuper().__init__()\n",
    "\t\tself.name = name\n",
    "\t\n",
    "\tdef run(self):\n",
    "\t\tprint(\"sub thread start\", threading.currentThread().getName())\n",
    "\t\ttime.sleep(3)\n",
    "\t\tprint(\"sub thread end\", threading.currentThread().getName())\n",
    "\t\t\n",
    "for i in range(5):\n",
    "    name = f\"thread {i}\"\n",
    "    t = Worker(name)\n",
    "    t.start()\n",
    "\n",
    "print(\"end\")"
   ]
  },
  {
   "cell_type": "code",
   "execution_count": 27,
   "metadata": {},
   "outputs": [
    {
     "name": "stdout",
     "output_type": "stream",
     "text": [
      "sub thread start thread 0\n",
      "sub thread start thread 1\n",
      "sub thread start thread 2\n",
      "sub thread start thread 3\n",
      "sub thread start thread 4\n",
      "main thread end\n"
     ]
    },
    {
     "name": "stdout",
     "output_type": "stream",
     "text": [
      "sub thread endsub thread end thread 4\n",
      "sub thread end thread 1\n",
      "sub thread end thread 2\n",
      "sub thread end thread 0\n",
      " thread 3\n"
     ]
    }
   ],
   "source": [
    "#스레드 생성\n",
    "import threading\n",
    "import time\n",
    "\n",
    "class Worker(threading.Thread):\n",
    "\tdef __init__(self, name):\n",
    "\t\tsuper().__init__()\n",
    "\t\tself.name = name\n",
    "\t\n",
    "\tdef run(self):\n",
    "\t\t#threading.currentThread().getName() -> threading.current_thread().name\n",
    "\t\tprint(\"sub thread start\", threading.current_thread().name)\n",
    "\t\ttime.sleep(3)\n",
    "\t\tprint(\"sub thread end\", threading.current_thread().name)\n",
    "\t\t\n",
    "for i in range(5):\n",
    "\tname = f\"thread {i}\"\n",
    "\tt = Worker(name)\n",
    "\tt.start()\n",
    "\t\n",
    "print(\"main thread end\")"
   ]
  },
  {
   "cell_type": "code",
   "execution_count": 28,
   "metadata": {},
   "outputs": [
    {
     "name": "stdout",
     "output_type": "stream",
     "text": [
      "main thread start\n",
      "sub thread start thread 0\n",
      "sub thread start thread 1\n",
      "sub thread start thread 2\n",
      "sub thread start thread 3\n",
      "sub thread start thread 4\n",
      "main thread end\n"
     ]
    },
    {
     "name": "stdout",
     "output_type": "stream",
     "text": [
      "sub thread endsub thread end thread 1\n",
      "sub thread end thread 3\n",
      "sub thread end thread 4\n",
      "sub thread end thread 2\n",
      " thread 0\n"
     ]
    }
   ],
   "source": [
    "#daemon 사용\n",
    "import threading\n",
    "import time\n",
    "\n",
    "class Worker(threading.Thread):\n",
    "\tdef __init__(self, name):\n",
    "\t\tsuper().__init__()\n",
    "\t\tself.name = name\n",
    "\t\n",
    "\tdef run(self):\n",
    "\t\t#threading.currentThread().getName() -> threading.current_thread().name\n",
    "\t\tprint(\"sub thread start\", threading.current_thread().name)\n",
    "\t\ttime.sleep(10)\n",
    "\t\tprint(\"sub thread end\", threading.current_thread().name)\n",
    "\n",
    "print(\"main thread start\")\t\t\n",
    "for i in range(5):\n",
    "\tname = f\"thread {i}\"\n",
    "\tt = Worker(name)\n",
    "\tt.daemon = True\n",
    "\tt.start()\n",
    "\t\n",
    "print(\"main thread end\")"
   ]
  },
  {
   "cell_type": "code",
   "execution_count": 26,
   "metadata": {},
   "outputs": [
    {
     "name": "stdout",
     "output_type": "stream",
     "text": [
      "main thread start\n",
      "sub thread start 1\n",
      "sub thread start 2\n",
      "sub thread end 2\n",
      "sub thread end 1\n",
      "main thread end\n"
     ]
    }
   ],
   "source": [
    "#join 사용\n",
    "import threading\n",
    "import time\n",
    "\n",
    "class Worker(threading.Thread):\n",
    "\tdef __init__(self, name):\n",
    "\t\tsuper().__init__()\n",
    "\t\tself.name = name\n",
    "\t\n",
    "\tdef run(self):\n",
    "\t\t#threading.currentThread().getName() -> threading.current_thread().name\n",
    "\t\tprint(\"sub thread start\", threading.current_thread().name)\n",
    "\t\ttime.sleep(3)\n",
    "\t\tprint(\"sub thread end\", threading.current_thread().name)\n",
    "\n",
    "\n",
    "print(\"main thread start\")\n",
    "\n",
    "t1 = Worker(\"1\")\n",
    "t1.start()\n",
    "\n",
    "t2 = Worker(\"2\")\n",
    "t2.start()\n",
    "\t\n",
    "t1.join()\n",
    "t2.join()\n",
    "\n",
    "print(\"main thread end\")"
   ]
  },
  {
   "cell_type": "code",
   "execution_count": 29,
   "metadata": {},
   "outputs": [
    {
     "name": "stdout",
     "output_type": "stream",
     "text": [
      "None\n",
      "Received: 10\n",
      "10\n",
      "Received: 20\n",
      "20\n",
      "No value received, returning default value\n",
      "None\n"
     ]
    }
   ],
   "source": [
    "def simple_generator():\n",
    "    value = None\n",
    "    while True:\n",
    "        value = yield value\n",
    "        if value is not None:\n",
    "            print(f\"Received: {value}\")\n",
    "        else:\n",
    "            print(\"No value received, returning default value\")\n",
    "\n",
    "gen = simple_generator()\n",
    "\n",
    "print(next(gen))\n",
    "\n",
    "print(gen.send(10))  # \"Received: 10\"이 출력되고, 10이 다음 yield로 반환됩니다.\n",
    "print(gen.send(20))  # \"Received: 20\"이 출력되고, 20이 다음 yield로 반환됩니다.\n",
    "\n",
    "print(gen.send(None))  # \"No value received, returning default value\" 출력, \"default\"가 반환됩니다.\n",
    "\n",
    "# 제너레이터 종료\n",
    "gen.close()\n"
   ]
  },
  {
   "cell_type": "code",
   "execution_count": null,
   "metadata": {},
   "outputs": [],
   "source": []
  }
 ],
 "metadata": {
  "kernelspec": {
   "display_name": "py3.12",
   "language": "python",
   "name": "py3.12"
  },
  "language_info": {
   "codemirror_mode": {
    "name": "ipython",
    "version": 3
   },
   "file_extension": ".py",
   "mimetype": "text/x-python",
   "name": "python",
   "nbconvert_exporter": "python",
   "pygments_lexer": "ipython3",
   "version": "3.12.4"
  }
 },
 "nbformat": 4,
 "nbformat_minor": 2
}
