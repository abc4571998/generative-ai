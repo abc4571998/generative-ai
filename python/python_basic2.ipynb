{
 "cells": [
  {
   "cell_type": "code",
   "execution_count": 2,
   "id": "d040bb56-19da-41e7-8229-15d6e7ea54b9",
   "metadata": {},
   "outputs": [
    {
     "name": "stdout",
     "output_type": "stream",
     "text": [
      "hello\n"
     ]
    }
   ],
   "source": [
    "#함수 호출\n",
    "def hello():\n",
    "    print('hello')\n",
    "f = hello\n",
    "f()"
   ]
  },
  {
   "cell_type": "code",
   "execution_count": 4,
   "id": "c0d86af9-6e49-4a89-8481-8f2e52b54832",
   "metadata": {},
   "outputs": [
    {
     "name": "stdout",
     "output_type": "stream",
     "text": [
      "(1, 2, 3)\n",
      "(1, 2, 3, 4)\n"
     ]
    }
   ],
   "source": [
    "#위치가변인자\n",
    "def foo(*args):\n",
    "\tprint(args)\n",
    "\t\n",
    "foo(1,2,3)\n",
    "foo(1,2,3,4)"
   ]
  },
  {
   "cell_type": "code",
   "execution_count": 10,
   "id": "fb4062ef-c3da-44b4-8196-fa1e85947172",
   "metadata": {},
   "outputs": [
    {
     "name": "stdout",
     "output_type": "stream",
     "text": [
      "(1, 2, 3)\n",
      "{'a': 1, 'b': 2, 'c': 3}\n"
     ]
    }
   ],
   "source": [
    "#위치+키워드가변인자\n",
    "def foo(*args, **kwargs):\n",
    "\tprint(args)\n",
    "\tprint(kwargs)\n",
    "\n",
    "foo(1,2,3, a=1,b=2,c=3)"
   ]
  },
  {
   "cell_type": "code",
   "execution_count": 14,
   "id": "a09ff7e4-b585-421d-aa64-cd0e560ca64d",
   "metadata": {},
   "outputs": [
    {
     "name": "stdout",
     "output_type": "stream",
     "text": [
      "1 2 3\n",
      "1 2 3\n"
     ]
    }
   ],
   "source": [
    "def foo(a,b,c):\n",
    "\tprint(a,b,c) \n",
    "\n",
    "data = [1,2,3]\n",
    "foo(data[0], data[1], data[2]) #1 2 3\n",
    "\n",
    "data2 = [1,2,3]\n",
    "foo(*data) #1 2 3"
   ]
  },
  {
   "cell_type": "code",
   "execution_count": 16,
   "id": "3c0d698c-6da7-4fe6-82fa-2347530d22d7",
   "metadata": {},
   "outputs": [
    {
     "data": {
      "text/plain": [
       "10"
      ]
     },
     "execution_count": 16,
     "metadata": {},
     "output_type": "execute_result"
    }
   ],
   "source": [
    "#람다 함수\n",
    "def mul5(x):\n",
    "\treturn 5*x\n",
    "\t\n",
    "# lambda 키워드로 생성\n",
    "# lambda 입력: 리턴값\n",
    "a = lambda x: 5*x\n",
    "a(2)"
   ]
  },
  {
   "cell_type": "code",
   "execution_count": 18,
   "id": "b733839b-1c9e-4106-81be-aa19ff0c1150",
   "metadata": {},
   "outputs": [
    {
     "name": "stdout",
     "output_type": "stream",
     "text": [
      "inner\n"
     ]
    }
   ],
   "source": [
    "def outer():\n",
    "\tdef inner():\n",
    "\t\tprint(\"inner\")\n",
    "\treturn inner\n",
    "\n",
    "f = outer()\n",
    "f()"
   ]
  },
  {
   "cell_type": "code",
   "execution_count": 33,
   "id": "0e204bf4-254c-4ab5-9c3f-1f28d5996863",
   "metadata": {},
   "outputs": [
    {
     "name": "stdout",
     "output_type": "stream",
     "text": [
      "20\n",
      "10\n"
     ]
    }
   ],
   "source": [
    "a = 10\n",
    "def test():\n",
    "    a = 20\n",
    "    print(a)\n",
    "test()\n",
    "print(a)"
   ]
  },
  {
   "cell_type": "code",
   "execution_count": 39,
   "id": "2c3fbae6-a142-485c-bbb8-12f010669c4c",
   "metadata": {},
   "outputs": [
    {
     "name": "stdout",
     "output_type": "stream",
     "text": [
      "3\n"
     ]
    }
   ],
   "source": [
    "def outer():\n",
    "\tinner = 3\n",
    "\treturn inner\n",
    "f = outer()\n",
    "print(f)"
   ]
  },
  {
   "cell_type": "code",
   "execution_count": 50,
   "id": "f8a3e7af-bcc3-48ce-a3c6-222e63e9481d",
   "metadata": {},
   "outputs": [
    {
     "name": "stdout",
     "output_type": "stream",
     "text": [
      "(<cell at 0x122250190: int object at 0x102e7e2a8>,) <class 'tuple'>\n",
      "<cell at 0x122250190: int object at 0x102e7e2a8> <class 'cell'>\n",
      "3\n"
     ]
    }
   ],
   "source": [
    "#클로저\n",
    "def outer():\n",
    "\tnum = 3\n",
    "\tdef inner():\n",
    "\t\tprint(num)\n",
    "\treturn inner\n",
    "\n",
    "f = outer()\n",
    "print(f.__closure__, type(f.__closure__))\n",
    "print(f.__closure__[0], type(f.__closure__[0]))\n",
    "print(f.__closure__[0].cell_contents)"
   ]
  },
  {
   "cell_type": "code",
   "execution_count": 54,
   "id": "ad5adcd7-3564-407e-ada7-2cc1b9f406bb",
   "metadata": {},
   "outputs": [
    {
     "name": "stdout",
     "output_type": "stream",
     "text": [
      "<__main__.Person object at 0x1104e4bf0>\n"
     ]
    }
   ],
   "source": [
    "#클래스\n",
    "class Person:\n",
    "\tpass\n",
    "\t\n",
    "p = Person()\n",
    "print(p)"
   ]
  },
  {
   "cell_type": "code",
   "execution_count": 64,
   "id": "8d1fce9b-1ce2-4438-9ba2-d3d7f4b048c2",
   "metadata": {},
   "outputs": [
    {
     "name": "stdout",
     "output_type": "stream",
     "text": [
      "test 객체에 접근하셨습니다\n"
     ]
    }
   ],
   "source": [
    "#매직메서드\n",
    "class Stock:\n",
    "    def __getattribute__(self, item):\n",
    "        print(item, '객체에 접근하셨습니다')\n",
    "a = Stock()\n",
    "a.test"
   ]
  },
  {
   "cell_type": "code",
   "execution_count": 113,
   "id": "5524fa64-269b-46aa-b890-354b8fe0af3b",
   "metadata": {},
   "outputs": [
    {
     "name": "stdout",
     "output_type": "stream",
     "text": [
      "k5 drive\n"
     ]
    }
   ],
   "source": [
    "from abc import ABC, abstractmethod\n",
    "\n",
    "class Car(ABC):\n",
    "    @abstractmethod\n",
    "    def drive(self):\n",
    "        pass\n",
    "\n",
    "class K5(Car):\n",
    "    def drive(self):\n",
    "        print(\"k5 drive\")\n",
    "\t\t    \n",
    "k5 = K5()\n",
    "k5.drive()"
   ]
  },
  {
   "cell_type": "code",
   "execution_count": 122,
   "id": "21f2a85e-7832-4667-ab9f-9f4f0e5609f6",
   "metadata": {},
   "outputs": [
    {
     "name": "stdout",
     "output_type": "stream",
     "text": [
      "8\n"
     ]
    }
   ],
   "source": [
    "def add(a: int, b: int) -> int:\n",
    "\treturn a+b\n",
    "\n",
    "result = add(3,5)\n",
    "print(result)"
   ]
  },
  {
   "cell_type": "code",
   "execution_count": null,
   "id": "7e3878d4-5d54-40eb-96a9-405486d0e71e",
   "metadata": {},
   "outputs": [],
   "source": []
  }
 ],
 "metadata": {
  "kernelspec": {
   "display_name": "Python 3 (ipykernel)",
   "language": "python",
   "name": "python3"
  },
  "language_info": {
   "codemirror_mode": {
    "name": "ipython",
    "version": 3
   },
   "file_extension": ".py",
   "mimetype": "text/x-python",
   "name": "python",
   "nbconvert_exporter": "python",
   "pygments_lexer": "ipython3",
   "version": "3.12.4"
  }
 },
 "nbformat": 4,
 "nbformat_minor": 5
}
