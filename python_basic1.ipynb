{
 "cells": [
  {
   "cell_type": "code",
   "execution_count": 2,
   "id": "521ccec9-37f4-4579-9819-c5852b5158ef",
   "metadata": {},
   "outputs": [
    {
     "name": "stdout",
     "output_type": "stream",
     "text": [
      "성애는 27살입니다.\n"
     ]
    }
   ],
   "source": [
    "name = \"성애\"\n",
    "age = 27\n",
    "print(\"{}는 {}살입니다.\".format(name, age))"
   ]
  },
  {
   "cell_type": "code",
   "execution_count": 5,
   "id": "ed6832b0-02a7-4dc3-b687-785cdf4638c2",
   "metadata": {},
   "outputs": [
    {
     "name": "stdout",
     "output_type": "stream",
     "text": [
      "생성형 AI 개발자 양성 과정 1회차입니다.\n"
     ]
    }
   ],
   "source": [
    "title = \"생성형 AI 개발자 양성 과정\"\n",
    "count = 1\n",
    "print(f\"{title} {count}회차입니다.\")"
   ]
  },
  {
   "cell_type": "code",
   "execution_count": 19,
   "id": "6409b911-df4e-4382-94c6-4376f25dfcb1",
   "metadata": {},
   "outputs": [
    {
     "name": "stdout",
     "output_type": "stream",
     "text": [
      "02일차 실습 내용입니다.\n"
     ]
    }
   ],
   "source": [
    "day = 2\n",
    "myStr = f\"{day:02d}\"\n",
    "print(f\"{myStr}일차 실습 내용입니다.\")"
   ]
  },
  {
   "cell_type": "code",
   "execution_count": 51,
   "id": "e323a276-f3c9-4c46-9feb-d80d292ee76e",
   "metadata": {},
   "outputs": [
    {
     "name": "stdout",
     "output_type": "stream",
     "text": [
      "***ABC****\n"
     ]
    }
   ],
   "source": [
    "symbol = \"ABC\"\n",
    "print(f\"{symbol:*^10}\")"
   ]
  },
  {
   "cell_type": "code",
   "execution_count": 77,
   "id": "efaf5b52-fed3-4984-a3cb-f918bcf432bb",
   "metadata": {},
   "outputs": [
    {
     "name": "stdout",
     "output_type": "stream",
     "text": [
      "12345.10\n"
     ]
    }
   ],
   "source": [
    "value = 12345.1\n",
    "print(f\"{value:06.2f}\")"
   ]
  },
  {
   "cell_type": "code",
   "execution_count": 83,
   "id": "88449078-ee43-4140-b43a-5bb6a443da4e",
   "metadata": {},
   "outputs": [
    {
     "name": "stdout",
     "output_type": "stream",
     "text": [
      "4401012896 5892224448 4401012896\n"
     ]
    }
   ],
   "source": [
    "a = \"hello\"\n",
    "b = [\"hello\", \"world\"]\n",
    "print(id(a), id(b), id(b[0]))"
   ]
  },
  {
   "cell_type": "code",
   "execution_count": 85,
   "id": "98e17b64-30eb-4da7-bc20-4e0c2c130589",
   "metadata": {},
   "outputs": [
    {
     "name": "stdout",
     "output_type": "stream",
     "text": [
      "[0, 2, 4, 6, 8]\n"
     ]
    }
   ],
   "source": [
    "even_num = [x for x in range(10) if x%2 == 0]\n",
    "print(even_num)"
   ]
  },
  {
   "cell_type": "code",
   "execution_count": 93,
   "id": "7ca1e82a-f042-4415-a5d2-f61f74e86802",
   "metadata": {},
   "outputs": [
    {
     "name": "stdout",
     "output_type": "stream",
     "text": [
      "(1, 2) <class 'tuple'>\n",
      "(1, 2) <class 'tuple'>\n",
      "[1, 2] <class 'list'>\n"
     ]
    }
   ],
   "source": [
    "a = 1,2\n",
    "b = (1,2)\n",
    "c = [1,2]\n",
    "print(a, type(a))\n",
    "print(b, type(b))\n",
    "print(c, type(c))"
   ]
  },
  {
   "cell_type": "code",
   "execution_count": 105,
   "id": "f5489eff-e45b-4db2-bfba-a5d37d7ce92d",
   "metadata": {},
   "outputs": [
    {
     "name": "stdout",
     "output_type": "stream",
     "text": [
      "[2, 3, 4]\n"
     ]
    }
   ],
   "source": [
    "my_tuple = 1,2,3,4,5\n",
    "low, *others, high = my_tuple\n",
    "print(others)"
   ]
  },
  {
   "cell_type": "code",
   "execution_count": 109,
   "id": "db21d0d1-5b91-4ba9-9914-5171c6b1fdde",
   "metadata": {},
   "outputs": [
    {
     "name": "stdout",
     "output_type": "stream",
     "text": [
      "(1, 2, 3) <class 'tuple'>\n"
     ]
    }
   ],
   "source": [
    "def foo():\n",
    "    return 1,2,3\n",
    "val = foo()\n",
    "print(val, type(val))"
   ]
  },
  {
   "cell_type": "code",
   "execution_count": 115,
   "id": "9e440116-5fc5-454d-85fb-403460193720",
   "metadata": {},
   "outputs": [
    {
     "name": "stdout",
     "output_type": "stream",
     "text": [
      "[('merona', 500), ('gugucon', 1000)]\n",
      "merona 500\n",
      "gugucon 1000\n"
     ]
    }
   ],
   "source": [
    "name = ['merona', 'gugucon']\n",
    "price = [500, 1000]\n",
    "z = zip(name, price)\n",
    "print(list(z))\n",
    "\n",
    "for n,p in zip(name, price):\n",
    "    print(n,p)"
   ]
  },
  {
   "cell_type": "code",
   "execution_count": 121,
   "id": "f371cf82-1286-4571-bbad-6695e0543383",
   "metadata": {},
   "outputs": [
    {
     "name": "stdout",
     "output_type": "stream",
     "text": [
      "{'메로나': 500, '구구콘': 1000}\n",
      "{'메로나': 500, '구구콘': 1000}\n",
      "{'메로나': 500, '구구콘': 1000}\n"
     ]
    }
   ],
   "source": [
    "sample1 = {\"메로나\": 500, \"구구콘\": 1000}\n",
    "sample2 = dict(메로나=500, 구구콘=1000)\n",
    "sample3 = dict([(\"메로나\",500), (\"구구콘\",1000)])\n",
    "\n",
    "print(sample1)\n",
    "print(sample2)\n",
    "print(sample3)"
   ]
  },
  {
   "cell_type": "code",
   "execution_count": 123,
   "id": "831eaade-8050-46e7-ba09-13bf3d74d4b5",
   "metadata": {},
   "outputs": [
    {
     "name": "stdout",
     "output_type": "stream",
     "text": [
      "{'merona': 500, 'gugucon': 1000}\n"
     ]
    }
   ],
   "source": [
    "name = ['merona', 'gugucon']\n",
    "price = [500, 1000]\n",
    "\n",
    "icecream = dict(zip(name, price))\n",
    "print(icecream)"
   ]
  },
  {
   "cell_type": "code",
   "execution_count": 129,
   "id": "2f699fdf-1447-4548-8698-32c3e8ef1d73",
   "metadata": {},
   "outputs": [
    {
     "name": "stdout",
     "output_type": "stream",
     "text": [
      "1\n",
      "10\n"
     ]
    }
   ],
   "source": [
    "my_dict = {\"apple\": 1, \"banana\": 2}\n",
    "\n",
    "#키가 존재하는 경우\n",
    "exist = my_dict.setdefault(\"apple\", 10)\n",
    "print(exist)\n",
    "\n",
    "#키가 존재하지 않는 경우\n",
    "not_exist = my_dict.setdefault(\"kiwi\", 10)\n",
    "print(not_exist)"
   ]
  },
  {
   "cell_type": "code",
   "execution_count": 135,
   "id": "fb66b61e-5d0e-4f8b-9cfa-c76fb7b3dc9e",
   "metadata": {},
   "outputs": [
    {
     "name": "stdout",
     "output_type": "stream",
     "text": [
      "{'merona': 500, 'gugucon': 1000}\n",
      "{'merona': 500, 'gugucon': 1000}\n"
     ]
    }
   ],
   "source": [
    "name = ['merona', 'gugucon']\n",
    "price = [500, 1000]\n",
    "\n",
    "icecream = {k:v for k,v in zip(name, price)}\n",
    "print(icecream) #{'merona': 500, 'gugucon': 1000}\n",
    "\n",
    "#더 간단한 딕셔너리 컴프리헨션\n",
    "simple_dict = dict(zip(name,price))\n",
    "print(simple_dict)"
   ]
  },
  {
   "cell_type": "code",
   "execution_count": 147,
   "id": "6506f3d2-a323-4dff-a181-4acb589352d2",
   "metadata": {},
   "outputs": [
    {
     "name": "stdout",
     "output_type": "stream",
     "text": [
      "seongae seoul\n"
     ]
    }
   ],
   "source": [
    "from collections import namedtuple\n",
    "Person = namedtuple('Person', ['name', 'city'])\n",
    "\n",
    "p1 = Person(name='seongae', city='seoul')\n",
    "print(p1.name, p1.city)"
   ]
  },
  {
   "cell_type": "code",
   "execution_count": null,
   "id": "e9dc8afb-fd2c-4481-aab4-375433a13c1f",
   "metadata": {},
   "outputs": [],
   "source": []
  }
 ],
 "metadata": {
  "kernelspec": {
   "display_name": "Python 3 (ipykernel)",
   "language": "python",
   "name": "python3"
  },
  "language_info": {
   "codemirror_mode": {
    "name": "ipython",
    "version": 3
   },
   "file_extension": ".py",
   "mimetype": "text/x-python",
   "name": "python",
   "nbconvert_exporter": "python",
   "pygments_lexer": "ipython3",
   "version": "3.12.4"
  }
 },
 "nbformat": 4,
 "nbformat_minor": 5
}
